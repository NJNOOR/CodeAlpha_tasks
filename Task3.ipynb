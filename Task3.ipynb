{
  "nbformat": 4,
  "nbformat_minor": 0,
  "metadata": {
    "colab": {
      "provenance": []
    },
    "kernelspec": {
      "name": "python3",
      "display_name": "Python 3"
    },
    "language_info": {
      "name": "python"
    }
  },
  "cells": [
    {
      "cell_type": "markdown",
      "source": [
        "# 🚘 **About Dataset:**\n",
        "\n",
        "The price of a car depends on a lot of factors like the goodwill of the brand of the car, features of the car, horsepower, the mileage it gives, and many more. 🚗 Car price prediction is one of the major research areas in machine learning."
      ],
      "metadata": {
        "id": "gJiFLXDFCL_X"
      }
    },
    {
      "cell_type": "markdown",
      "source": [
        "**📊 Dataset Overview**\n",
        "\n",
        "🚗 Car_Name: Categorical variable representing the model of the vehicle, including both cars and motorcycles.\n",
        "\n",
        "📅 Year: Numerical (integer) indicating the manufacturing year, ranging from 2003 to 2018.\n",
        "\n",
        "💰 Selling_Price: Numerical (float) representing the price at which the vehicle is being sold.\n",
        "\n",
        "📈 Present_Price: Numerical (float) indicating the current market value of the vehicle.\n",
        "\n",
        "🛣️ Driven_kms: Numerical (integer) showing the kilometers driven.\n",
        "\n",
        "⛽ Fuel_Type: Categorical variable indicating the type of fuel used (e.g., Petrol, Diesel, CNG).\n",
        "\n",
        "🛒 Selling_type: Categorical variable denoting whether the vehicle is sold by a Dealer or an Individual.\n",
        "\n",
        "⚙️ Transmission: Categorical variable indicating the type of transmission:\n",
        "\n",
        "🧑‍🔧 Manual: The driver manually changes gears using a gear stick and clutch pedal.\n",
        "🤖 Automatic: The car automatically changes gears without driver intervention.\n",
        "\n",
        "👤 Owner: Numerical (integer) indicating the number of previous owners the vehicle has had."
      ],
      "metadata": {
        "id": "gCuxNqJ_CZbd"
      }
    },
    {
      "cell_type": "markdown",
      "source": [
        "## Import Libraries"
      ],
      "metadata": {
        "id": "efTs7pvdCo0E"
      }
    },
    {
      "cell_type": "code",
      "execution_count": 1,
      "metadata": {
        "colab": {
          "base_uri": "https://localhost:8080/"
        },
        "id": "pZWHnhBK_9-o",
        "outputId": "8b9b132f-efd8-4203-a10d-c93eb6441270"
      },
      "outputs": [
        {
          "output_type": "stream",
          "name": "stdout",
          "text": [
            "Libraries imported successfully!\n"
          ]
        }
      ],
      "source": [
        "# basic libraries\n",
        "import numpy as np\n",
        "import pandas as pd\n",
        "import matplotlib.pyplot as plt\n",
        "import seaborn as sns\n",
        "import plotly.express as px\n",
        "\n",
        "# import from scikit-learn library\n",
        "from sklearn.model_selection import train_test_split, GridSearchCV\n",
        "from sklearn.preprocessing import MinMaxScaler, OneHotEncoder\n",
        "from sklearn.compose import ColumnTransformer\n",
        "from sklearn.pipeline import Pipeline\n",
        "from sklearn.metrics import mean_squared_error, mean_absolute_error, r2_score\n",
        "from sklearn.linear_model import LinearRegression, Ridge, Lasso\n",
        "from sklearn.tree import DecisionTreeRegressor\n",
        "from sklearn.ensemble import RandomForestRegressor, GradientBoostingRegressor\n",
        "from sklearn.svm import SVR\n",
        "from sklearn.neighbors import KNeighborsRegressor\n",
        "from xgboost import XGBRegressor\n",
        "import pickle\n",
        "\n",
        "# ignore warnings\n",
        "import warnings\n",
        "warnings.filterwarnings('ignore')\n",
        "\n",
        "print('Libraries imported successfully!')"
      ]
    },
    {
      "cell_type": "markdown",
      "source": [
        "## Explore Data"
      ],
      "metadata": {
        "id": "hMZvITTlC1Cs"
      }
    },
    {
      "cell_type": "code",
      "source": [
        "# Load the data\n",
        "df = pd.read_csv('car data.csv')\n",
        "\n",
        "print('Data loaded successfully')"
      ],
      "metadata": {
        "colab": {
          "base_uri": "https://localhost:8080/"
        },
        "id": "2PVVJMDdCz8c",
        "outputId": "7749d4da-2438-4717-80c3-07db830dfba2"
      },
      "execution_count": 2,
      "outputs": [
        {
          "output_type": "stream",
          "name": "stdout",
          "text": [
            "Data loaded successfully\n"
          ]
        }
      ]
    },
    {
      "cell_type": "code",
      "source": [
        "# display the first 5 rows of the data\n",
        "df.head()"
      ],
      "metadata": {
        "colab": {
          "base_uri": "https://localhost:8080/",
          "height": 206
        },
        "id": "7FzLsgAdC-sU",
        "outputId": "3582edee-02e7-400d-8eb5-9f555ba177a4"
      },
      "execution_count": 3,
      "outputs": [
        {
          "output_type": "execute_result",
          "data": {
            "text/plain": [
              "  Car_Name  Year  Selling_Price  Present_Price  Driven_kms Fuel_Type  \\\n",
              "0     ritz  2014           3.35           5.59       27000    Petrol   \n",
              "1      sx4  2013           4.75           9.54       43000    Diesel   \n",
              "2     ciaz  2017           7.25           9.85        6900    Petrol   \n",
              "3  wagon r  2011           2.85           4.15        5200    Petrol   \n",
              "4    swift  2014           4.60           6.87       42450    Diesel   \n",
              "\n",
              "  Selling_type Transmission  Owner  \n",
              "0       Dealer       Manual      0  \n",
              "1       Dealer       Manual      0  \n",
              "2       Dealer       Manual      0  \n",
              "3       Dealer       Manual      0  \n",
              "4       Dealer       Manual      0  "
            ],
            "text/html": [
              "\n",
              "  <div id=\"df-0b82ec84-743a-4a6a-9a0b-783804a35172\" class=\"colab-df-container\">\n",
              "    <div>\n",
              "<style scoped>\n",
              "    .dataframe tbody tr th:only-of-type {\n",
              "        vertical-align: middle;\n",
              "    }\n",
              "\n",
              "    .dataframe tbody tr th {\n",
              "        vertical-align: top;\n",
              "    }\n",
              "\n",
              "    .dataframe thead th {\n",
              "        text-align: right;\n",
              "    }\n",
              "</style>\n",
              "<table border=\"1\" class=\"dataframe\">\n",
              "  <thead>\n",
              "    <tr style=\"text-align: right;\">\n",
              "      <th></th>\n",
              "      <th>Car_Name</th>\n",
              "      <th>Year</th>\n",
              "      <th>Selling_Price</th>\n",
              "      <th>Present_Price</th>\n",
              "      <th>Driven_kms</th>\n",
              "      <th>Fuel_Type</th>\n",
              "      <th>Selling_type</th>\n",
              "      <th>Transmission</th>\n",
              "      <th>Owner</th>\n",
              "    </tr>\n",
              "  </thead>\n",
              "  <tbody>\n",
              "    <tr>\n",
              "      <th>0</th>\n",
              "      <td>ritz</td>\n",
              "      <td>2014</td>\n",
              "      <td>3.35</td>\n",
              "      <td>5.59</td>\n",
              "      <td>27000</td>\n",
              "      <td>Petrol</td>\n",
              "      <td>Dealer</td>\n",
              "      <td>Manual</td>\n",
              "      <td>0</td>\n",
              "    </tr>\n",
              "    <tr>\n",
              "      <th>1</th>\n",
              "      <td>sx4</td>\n",
              "      <td>2013</td>\n",
              "      <td>4.75</td>\n",
              "      <td>9.54</td>\n",
              "      <td>43000</td>\n",
              "      <td>Diesel</td>\n",
              "      <td>Dealer</td>\n",
              "      <td>Manual</td>\n",
              "      <td>0</td>\n",
              "    </tr>\n",
              "    <tr>\n",
              "      <th>2</th>\n",
              "      <td>ciaz</td>\n",
              "      <td>2017</td>\n",
              "      <td>7.25</td>\n",
              "      <td>9.85</td>\n",
              "      <td>6900</td>\n",
              "      <td>Petrol</td>\n",
              "      <td>Dealer</td>\n",
              "      <td>Manual</td>\n",
              "      <td>0</td>\n",
              "    </tr>\n",
              "    <tr>\n",
              "      <th>3</th>\n",
              "      <td>wagon r</td>\n",
              "      <td>2011</td>\n",
              "      <td>2.85</td>\n",
              "      <td>4.15</td>\n",
              "      <td>5200</td>\n",
              "      <td>Petrol</td>\n",
              "      <td>Dealer</td>\n",
              "      <td>Manual</td>\n",
              "      <td>0</td>\n",
              "    </tr>\n",
              "    <tr>\n",
              "      <th>4</th>\n",
              "      <td>swift</td>\n",
              "      <td>2014</td>\n",
              "      <td>4.60</td>\n",
              "      <td>6.87</td>\n",
              "      <td>42450</td>\n",
              "      <td>Diesel</td>\n",
              "      <td>Dealer</td>\n",
              "      <td>Manual</td>\n",
              "      <td>0</td>\n",
              "    </tr>\n",
              "  </tbody>\n",
              "</table>\n",
              "</div>\n",
              "    <div class=\"colab-df-buttons\">\n",
              "\n",
              "  <div class=\"colab-df-container\">\n",
              "    <button class=\"colab-df-convert\" onclick=\"convertToInteractive('df-0b82ec84-743a-4a6a-9a0b-783804a35172')\"\n",
              "            title=\"Convert this dataframe to an interactive table.\"\n",
              "            style=\"display:none;\">\n",
              "\n",
              "  <svg xmlns=\"http://www.w3.org/2000/svg\" height=\"24px\" viewBox=\"0 -960 960 960\">\n",
              "    <path d=\"M120-120v-720h720v720H120Zm60-500h600v-160H180v160Zm220 220h160v-160H400v160Zm0 220h160v-160H400v160ZM180-400h160v-160H180v160Zm440 0h160v-160H620v160ZM180-180h160v-160H180v160Zm440 0h160v-160H620v160Z\"/>\n",
              "  </svg>\n",
              "    </button>\n",
              "\n",
              "  <style>\n",
              "    .colab-df-container {\n",
              "      display:flex;\n",
              "      gap: 12px;\n",
              "    }\n",
              "\n",
              "    .colab-df-convert {\n",
              "      background-color: #E8F0FE;\n",
              "      border: none;\n",
              "      border-radius: 50%;\n",
              "      cursor: pointer;\n",
              "      display: none;\n",
              "      fill: #1967D2;\n",
              "      height: 32px;\n",
              "      padding: 0 0 0 0;\n",
              "      width: 32px;\n",
              "    }\n",
              "\n",
              "    .colab-df-convert:hover {\n",
              "      background-color: #E2EBFA;\n",
              "      box-shadow: 0px 1px 2px rgba(60, 64, 67, 0.3), 0px 1px 3px 1px rgba(60, 64, 67, 0.15);\n",
              "      fill: #174EA6;\n",
              "    }\n",
              "\n",
              "    .colab-df-buttons div {\n",
              "      margin-bottom: 4px;\n",
              "    }\n",
              "\n",
              "    [theme=dark] .colab-df-convert {\n",
              "      background-color: #3B4455;\n",
              "      fill: #D2E3FC;\n",
              "    }\n",
              "\n",
              "    [theme=dark] .colab-df-convert:hover {\n",
              "      background-color: #434B5C;\n",
              "      box-shadow: 0px 1px 3px 1px rgba(0, 0, 0, 0.15);\n",
              "      filter: drop-shadow(0px 1px 2px rgba(0, 0, 0, 0.3));\n",
              "      fill: #FFFFFF;\n",
              "    }\n",
              "  </style>\n",
              "\n",
              "    <script>\n",
              "      const buttonEl =\n",
              "        document.querySelector('#df-0b82ec84-743a-4a6a-9a0b-783804a35172 button.colab-df-convert');\n",
              "      buttonEl.style.display =\n",
              "        google.colab.kernel.accessAllowed ? 'block' : 'none';\n",
              "\n",
              "      async function convertToInteractive(key) {\n",
              "        const element = document.querySelector('#df-0b82ec84-743a-4a6a-9a0b-783804a35172');\n",
              "        const dataTable =\n",
              "          await google.colab.kernel.invokeFunction('convertToInteractive',\n",
              "                                                    [key], {});\n",
              "        if (!dataTable) return;\n",
              "\n",
              "        const docLinkHtml = 'Like what you see? Visit the ' +\n",
              "          '<a target=\"_blank\" href=https://colab.research.google.com/notebooks/data_table.ipynb>data table notebook</a>'\n",
              "          + ' to learn more about interactive tables.';\n",
              "        element.innerHTML = '';\n",
              "        dataTable['output_type'] = 'display_data';\n",
              "        await google.colab.output.renderOutput(dataTable, element);\n",
              "        const docLink = document.createElement('div');\n",
              "        docLink.innerHTML = docLinkHtml;\n",
              "        element.appendChild(docLink);\n",
              "      }\n",
              "    </script>\n",
              "  </div>\n",
              "\n",
              "\n",
              "<div id=\"df-d2dcbad6-9745-4986-8eee-235db155f8dc\">\n",
              "  <button class=\"colab-df-quickchart\" onclick=\"quickchart('df-d2dcbad6-9745-4986-8eee-235db155f8dc')\"\n",
              "            title=\"Suggest charts\"\n",
              "            style=\"display:none;\">\n",
              "\n",
              "<svg xmlns=\"http://www.w3.org/2000/svg\" height=\"24px\"viewBox=\"0 0 24 24\"\n",
              "     width=\"24px\">\n",
              "    <g>\n",
              "        <path d=\"M19 3H5c-1.1 0-2 .9-2 2v14c0 1.1.9 2 2 2h14c1.1 0 2-.9 2-2V5c0-1.1-.9-2-2-2zM9 17H7v-7h2v7zm4 0h-2V7h2v10zm4 0h-2v-4h2v4z\"/>\n",
              "    </g>\n",
              "</svg>\n",
              "  </button>\n",
              "\n",
              "<style>\n",
              "  .colab-df-quickchart {\n",
              "      --bg-color: #E8F0FE;\n",
              "      --fill-color: #1967D2;\n",
              "      --hover-bg-color: #E2EBFA;\n",
              "      --hover-fill-color: #174EA6;\n",
              "      --disabled-fill-color: #AAA;\n",
              "      --disabled-bg-color: #DDD;\n",
              "  }\n",
              "\n",
              "  [theme=dark] .colab-df-quickchart {\n",
              "      --bg-color: #3B4455;\n",
              "      --fill-color: #D2E3FC;\n",
              "      --hover-bg-color: #434B5C;\n",
              "      --hover-fill-color: #FFFFFF;\n",
              "      --disabled-bg-color: #3B4455;\n",
              "      --disabled-fill-color: #666;\n",
              "  }\n",
              "\n",
              "  .colab-df-quickchart {\n",
              "    background-color: var(--bg-color);\n",
              "    border: none;\n",
              "    border-radius: 50%;\n",
              "    cursor: pointer;\n",
              "    display: none;\n",
              "    fill: var(--fill-color);\n",
              "    height: 32px;\n",
              "    padding: 0;\n",
              "    width: 32px;\n",
              "  }\n",
              "\n",
              "  .colab-df-quickchart:hover {\n",
              "    background-color: var(--hover-bg-color);\n",
              "    box-shadow: 0 1px 2px rgba(60, 64, 67, 0.3), 0 1px 3px 1px rgba(60, 64, 67, 0.15);\n",
              "    fill: var(--button-hover-fill-color);\n",
              "  }\n",
              "\n",
              "  .colab-df-quickchart-complete:disabled,\n",
              "  .colab-df-quickchart-complete:disabled:hover {\n",
              "    background-color: var(--disabled-bg-color);\n",
              "    fill: var(--disabled-fill-color);\n",
              "    box-shadow: none;\n",
              "  }\n",
              "\n",
              "  .colab-df-spinner {\n",
              "    border: 2px solid var(--fill-color);\n",
              "    border-color: transparent;\n",
              "    border-bottom-color: var(--fill-color);\n",
              "    animation:\n",
              "      spin 1s steps(1) infinite;\n",
              "  }\n",
              "\n",
              "  @keyframes spin {\n",
              "    0% {\n",
              "      border-color: transparent;\n",
              "      border-bottom-color: var(--fill-color);\n",
              "      border-left-color: var(--fill-color);\n",
              "    }\n",
              "    20% {\n",
              "      border-color: transparent;\n",
              "      border-left-color: var(--fill-color);\n",
              "      border-top-color: var(--fill-color);\n",
              "    }\n",
              "    30% {\n",
              "      border-color: transparent;\n",
              "      border-left-color: var(--fill-color);\n",
              "      border-top-color: var(--fill-color);\n",
              "      border-right-color: var(--fill-color);\n",
              "    }\n",
              "    40% {\n",
              "      border-color: transparent;\n",
              "      border-right-color: var(--fill-color);\n",
              "      border-top-color: var(--fill-color);\n",
              "    }\n",
              "    60% {\n",
              "      border-color: transparent;\n",
              "      border-right-color: var(--fill-color);\n",
              "    }\n",
              "    80% {\n",
              "      border-color: transparent;\n",
              "      border-right-color: var(--fill-color);\n",
              "      border-bottom-color: var(--fill-color);\n",
              "    }\n",
              "    90% {\n",
              "      border-color: transparent;\n",
              "      border-bottom-color: var(--fill-color);\n",
              "    }\n",
              "  }\n",
              "</style>\n",
              "\n",
              "  <script>\n",
              "    async function quickchart(key) {\n",
              "      const quickchartButtonEl =\n",
              "        document.querySelector('#' + key + ' button');\n",
              "      quickchartButtonEl.disabled = true;  // To prevent multiple clicks.\n",
              "      quickchartButtonEl.classList.add('colab-df-spinner');\n",
              "      try {\n",
              "        const charts = await google.colab.kernel.invokeFunction(\n",
              "            'suggestCharts', [key], {});\n",
              "      } catch (error) {\n",
              "        console.error('Error during call to suggestCharts:', error);\n",
              "      }\n",
              "      quickchartButtonEl.classList.remove('colab-df-spinner');\n",
              "      quickchartButtonEl.classList.add('colab-df-quickchart-complete');\n",
              "    }\n",
              "    (() => {\n",
              "      let quickchartButtonEl =\n",
              "        document.querySelector('#df-d2dcbad6-9745-4986-8eee-235db155f8dc button');\n",
              "      quickchartButtonEl.style.display =\n",
              "        google.colab.kernel.accessAllowed ? 'block' : 'none';\n",
              "    })();\n",
              "  </script>\n",
              "</div>\n",
              "\n",
              "    </div>\n",
              "  </div>\n"
            ],
            "application/vnd.google.colaboratory.intrinsic+json": {
              "type": "dataframe",
              "variable_name": "df",
              "summary": "{\n  \"name\": \"df\",\n  \"rows\": 301,\n  \"fields\": [\n    {\n      \"column\": \"Car_Name\",\n      \"properties\": {\n        \"dtype\": \"category\",\n        \"num_unique_values\": 98,\n        \"samples\": [\n          \"Hero Passion Pro\",\n          \"Honda CB Hornet 160R\",\n          \"city\"\n        ],\n        \"semantic_type\": \"\",\n        \"description\": \"\"\n      }\n    },\n    {\n      \"column\": \"Year\",\n      \"properties\": {\n        \"dtype\": \"number\",\n        \"std\": 2,\n        \"min\": 2003,\n        \"max\": 2018,\n        \"num_unique_values\": 16,\n        \"samples\": [\n          2014,\n          2013,\n          2015\n        ],\n        \"semantic_type\": \"\",\n        \"description\": \"\"\n      }\n    },\n    {\n      \"column\": \"Selling_Price\",\n      \"properties\": {\n        \"dtype\": \"number\",\n        \"std\": 5.082811556177804,\n        \"min\": 0.1,\n        \"max\": 35.0,\n        \"num_unique_values\": 156,\n        \"samples\": [\n          0.4,\n          7.05,\n          0.9\n        ],\n        \"semantic_type\": \"\",\n        \"description\": \"\"\n      }\n    },\n    {\n      \"column\": \"Present_Price\",\n      \"properties\": {\n        \"dtype\": \"number\",\n        \"std\": 8.64258435982547,\n        \"min\": 0.32,\n        \"max\": 92.6,\n        \"num_unique_values\": 148,\n        \"samples\": [\n          8.4,\n          36.23,\n          11.8\n        ],\n        \"semantic_type\": \"\",\n        \"description\": \"\"\n      }\n    },\n    {\n      \"column\": \"Driven_kms\",\n      \"properties\": {\n        \"dtype\": \"number\",\n        \"std\": 38886,\n        \"min\": 500,\n        \"max\": 500000,\n        \"num_unique_values\": 206,\n        \"samples\": [\n          41678,\n          42367,\n          60076\n        ],\n        \"semantic_type\": \"\",\n        \"description\": \"\"\n      }\n    },\n    {\n      \"column\": \"Fuel_Type\",\n      \"properties\": {\n        \"dtype\": \"category\",\n        \"num_unique_values\": 3,\n        \"samples\": [\n          \"Petrol\",\n          \"Diesel\",\n          \"CNG\"\n        ],\n        \"semantic_type\": \"\",\n        \"description\": \"\"\n      }\n    },\n    {\n      \"column\": \"Selling_type\",\n      \"properties\": {\n        \"dtype\": \"category\",\n        \"num_unique_values\": 2,\n        \"samples\": [\n          \"Individual\",\n          \"Dealer\"\n        ],\n        \"semantic_type\": \"\",\n        \"description\": \"\"\n      }\n    },\n    {\n      \"column\": \"Transmission\",\n      \"properties\": {\n        \"dtype\": \"category\",\n        \"num_unique_values\": 2,\n        \"samples\": [\n          \"Automatic\",\n          \"Manual\"\n        ],\n        \"semantic_type\": \"\",\n        \"description\": \"\"\n      }\n    },\n    {\n      \"column\": \"Owner\",\n      \"properties\": {\n        \"dtype\": \"number\",\n        \"std\": 0,\n        \"min\": 0,\n        \"max\": 3,\n        \"num_unique_values\": 3,\n        \"samples\": [\n          0,\n          1\n        ],\n        \"semantic_type\": \"\",\n        \"description\": \"\"\n      }\n    }\n  ]\n}"
            }
          },
          "metadata": {},
          "execution_count": 3
        }
      ]
    },
    {
      "cell_type": "code",
      "source": [
        "# shape of data\n",
        "print(f'Rows = {df.shape[0]}\\n')\n",
        "print(f'Columns = {df.shape[1]}')"
      ],
      "metadata": {
        "colab": {
          "base_uri": "https://localhost:8080/"
        },
        "id": "o82HcsF1DBPd",
        "outputId": "600ad9e1-06b5-4005-ab6f-d863e6451db7"
      },
      "execution_count": 4,
      "outputs": [
        {
          "output_type": "stream",
          "name": "stdout",
          "text": [
            "Rows = 301\n",
            "\n",
            "Columns = 9\n"
          ]
        }
      ]
    },
    {
      "cell_type": "code",
      "source": [
        "# info of data\n",
        "df.info()"
      ],
      "metadata": {
        "colab": {
          "base_uri": "https://localhost:8080/"
        },
        "id": "xt4yKA1aDDRV",
        "outputId": "b3e3efa9-1531-4b11-f489-4c546fd1294c"
      },
      "execution_count": 5,
      "outputs": [
        {
          "output_type": "stream",
          "name": "stdout",
          "text": [
            "<class 'pandas.core.frame.DataFrame'>\n",
            "RangeIndex: 301 entries, 0 to 300\n",
            "Data columns (total 9 columns):\n",
            " #   Column         Non-Null Count  Dtype  \n",
            "---  ------         --------------  -----  \n",
            " 0   Car_Name       301 non-null    object \n",
            " 1   Year           301 non-null    int64  \n",
            " 2   Selling_Price  301 non-null    float64\n",
            " 3   Present_Price  301 non-null    float64\n",
            " 4   Driven_kms     301 non-null    int64  \n",
            " 5   Fuel_Type      301 non-null    object \n",
            " 6   Selling_type   301 non-null    object \n",
            " 7   Transmission   301 non-null    object \n",
            " 8   Owner          301 non-null    int64  \n",
            "dtypes: float64(2), int64(3), object(4)\n",
            "memory usage: 21.3+ KB\n"
          ]
        }
      ]
    },
    {
      "cell_type": "code",
      "source": [
        "# statistical summary of data\n",
        "num_sum = df.describe()\n",
        "palette = sns.color_palette('viridis', as_cmap=True)\n",
        "num_sum.style.background_gradient(cmap=palette)"
      ],
      "metadata": {
        "colab": {
          "base_uri": "https://localhost:8080/",
          "height": 300
        },
        "id": "LV-pdq2lDFy2",
        "outputId": "29d797d1-032a-4f82-c8dd-2e46d9dc3b4f"
      },
      "execution_count": 6,
      "outputs": [
        {
          "output_type": "execute_result",
          "data": {
            "text/plain": [
              "<pandas.io.formats.style.Styler at 0x7c2cdae1c6d0>"
            ],
            "text/html": [
              "<style type=\"text/css\">\n",
              "#T_3c63e_row0_col0 {\n",
              "  background-color: #46337f;\n",
              "  color: #f1f1f1;\n",
              "}\n",
              "#T_3c63e_row0_col1, #T_3c63e_row0_col2, #T_3c63e_row0_col4, #T_3c63e_row1_col0, #T_3c63e_row4_col0, #T_3c63e_row5_col0, #T_3c63e_row6_col0, #T_3c63e_row7_col0, #T_3c63e_row7_col3 {\n",
              "  background-color: #fde725;\n",
              "  color: #000000;\n",
              "}\n",
              "#T_3c63e_row0_col3, #T_3c63e_row1_col4, #T_3c63e_row2_col0, #T_3c63e_row2_col4, #T_3c63e_row3_col1, #T_3c63e_row3_col2, #T_3c63e_row3_col3, #T_3c63e_row3_col4, #T_3c63e_row4_col1, #T_3c63e_row4_col2, #T_3c63e_row4_col4, #T_3c63e_row5_col4, #T_3c63e_row6_col4 {\n",
              "  background-color: #440154;\n",
              "  color: #f1f1f1;\n",
              "}\n",
              "#T_3c63e_row1_col1 {\n",
              "  background-color: #450559;\n",
              "  color: #f1f1f1;\n",
              "}\n",
              "#T_3c63e_row1_col2 {\n",
              "  background-color: #460a5d;\n",
              "  color: #f1f1f1;\n",
              "}\n",
              "#T_3c63e_row1_col3 {\n",
              "  background-color: #481b6d;\n",
              "  color: #f1f1f1;\n",
              "}\n",
              "#T_3c63e_row2_col1 {\n",
              "  background-color: #46075a;\n",
              "  color: #f1f1f1;\n",
              "}\n",
              "#T_3c63e_row2_col2, #T_3c63e_row4_col3 {\n",
              "  background-color: #460b5e;\n",
              "  color: #f1f1f1;\n",
              "}\n",
              "#T_3c63e_row2_col3 {\n",
              "  background-color: #481c6e;\n",
              "  color: #f1f1f1;\n",
              "}\n",
              "#T_3c63e_row3_col0 {\n",
              "  background-color: #fbe723;\n",
              "  color: #000000;\n",
              "}\n",
              "#T_3c63e_row5_col1, #T_3c63e_row7_col4 {\n",
              "  background-color: #450457;\n",
              "  color: #f1f1f1;\n",
              "}\n",
              "#T_3c63e_row5_col2, #T_3c63e_row6_col1 {\n",
              "  background-color: #46085c;\n",
              "  color: #f1f1f1;\n",
              "}\n",
              "#T_3c63e_row5_col3 {\n",
              "  background-color: #48186a;\n",
              "  color: #f1f1f1;\n",
              "}\n",
              "#T_3c63e_row6_col2 {\n",
              "  background-color: #470d60;\n",
              "  color: #f1f1f1;\n",
              "}\n",
              "#T_3c63e_row6_col3 {\n",
              "  background-color: #482374;\n",
              "  color: #f1f1f1;\n",
              "}\n",
              "#T_3c63e_row7_col1 {\n",
              "  background-color: #482979;\n",
              "  color: #f1f1f1;\n",
              "}\n",
              "#T_3c63e_row7_col2 {\n",
              "  background-color: #34618d;\n",
              "  color: #f1f1f1;\n",
              "}\n",
              "</style>\n",
              "<table id=\"T_3c63e\" class=\"dataframe\">\n",
              "  <thead>\n",
              "    <tr>\n",
              "      <th class=\"blank level0\" >&nbsp;</th>\n",
              "      <th id=\"T_3c63e_level0_col0\" class=\"col_heading level0 col0\" >Year</th>\n",
              "      <th id=\"T_3c63e_level0_col1\" class=\"col_heading level0 col1\" >Selling_Price</th>\n",
              "      <th id=\"T_3c63e_level0_col2\" class=\"col_heading level0 col2\" >Present_Price</th>\n",
              "      <th id=\"T_3c63e_level0_col3\" class=\"col_heading level0 col3\" >Driven_kms</th>\n",
              "      <th id=\"T_3c63e_level0_col4\" class=\"col_heading level0 col4\" >Owner</th>\n",
              "    </tr>\n",
              "  </thead>\n",
              "  <tbody>\n",
              "    <tr>\n",
              "      <th id=\"T_3c63e_level0_row0\" class=\"row_heading level0 row0\" >count</th>\n",
              "      <td id=\"T_3c63e_row0_col0\" class=\"data row0 col0\" >301.000000</td>\n",
              "      <td id=\"T_3c63e_row0_col1\" class=\"data row0 col1\" >301.000000</td>\n",
              "      <td id=\"T_3c63e_row0_col2\" class=\"data row0 col2\" >301.000000</td>\n",
              "      <td id=\"T_3c63e_row0_col3\" class=\"data row0 col3\" >301.000000</td>\n",
              "      <td id=\"T_3c63e_row0_col4\" class=\"data row0 col4\" >301.000000</td>\n",
              "    </tr>\n",
              "    <tr>\n",
              "      <th id=\"T_3c63e_level0_row1\" class=\"row_heading level0 row1\" >mean</th>\n",
              "      <td id=\"T_3c63e_row1_col0\" class=\"data row1 col0\" >2013.627907</td>\n",
              "      <td id=\"T_3c63e_row1_col1\" class=\"data row1 col1\" >4.661296</td>\n",
              "      <td id=\"T_3c63e_row1_col2\" class=\"data row1 col2\" >7.628472</td>\n",
              "      <td id=\"T_3c63e_row1_col3\" class=\"data row1 col3\" >36947.205980</td>\n",
              "      <td id=\"T_3c63e_row1_col4\" class=\"data row1 col4\" >0.043189</td>\n",
              "    </tr>\n",
              "    <tr>\n",
              "      <th id=\"T_3c63e_level0_row2\" class=\"row_heading level0 row2\" >std</th>\n",
              "      <td id=\"T_3c63e_row2_col0\" class=\"data row2 col0\" >2.891554</td>\n",
              "      <td id=\"T_3c63e_row2_col1\" class=\"data row2 col1\" >5.082812</td>\n",
              "      <td id=\"T_3c63e_row2_col2\" class=\"data row2 col2\" >8.642584</td>\n",
              "      <td id=\"T_3c63e_row2_col3\" class=\"data row2 col3\" >38886.883882</td>\n",
              "      <td id=\"T_3c63e_row2_col4\" class=\"data row2 col4\" >0.247915</td>\n",
              "    </tr>\n",
              "    <tr>\n",
              "      <th id=\"T_3c63e_level0_row3\" class=\"row_heading level0 row3\" >min</th>\n",
              "      <td id=\"T_3c63e_row3_col0\" class=\"data row3 col0\" >2003.000000</td>\n",
              "      <td id=\"T_3c63e_row3_col1\" class=\"data row3 col1\" >0.100000</td>\n",
              "      <td id=\"T_3c63e_row3_col2\" class=\"data row3 col2\" >0.320000</td>\n",
              "      <td id=\"T_3c63e_row3_col3\" class=\"data row3 col3\" >500.000000</td>\n",
              "      <td id=\"T_3c63e_row3_col4\" class=\"data row3 col4\" >0.000000</td>\n",
              "    </tr>\n",
              "    <tr>\n",
              "      <th id=\"T_3c63e_level0_row4\" class=\"row_heading level0 row4\" >25%</th>\n",
              "      <td id=\"T_3c63e_row4_col0\" class=\"data row4 col0\" >2012.000000</td>\n",
              "      <td id=\"T_3c63e_row4_col1\" class=\"data row4 col1\" >0.900000</td>\n",
              "      <td id=\"T_3c63e_row4_col2\" class=\"data row4 col2\" >1.200000</td>\n",
              "      <td id=\"T_3c63e_row4_col3\" class=\"data row4 col3\" >15000.000000</td>\n",
              "      <td id=\"T_3c63e_row4_col4\" class=\"data row4 col4\" >0.000000</td>\n",
              "    </tr>\n",
              "    <tr>\n",
              "      <th id=\"T_3c63e_level0_row5\" class=\"row_heading level0 row5\" >50%</th>\n",
              "      <td id=\"T_3c63e_row5_col0\" class=\"data row5 col0\" >2014.000000</td>\n",
              "      <td id=\"T_3c63e_row5_col1\" class=\"data row5 col1\" >3.600000</td>\n",
              "      <td id=\"T_3c63e_row5_col2\" class=\"data row5 col2\" >6.400000</td>\n",
              "      <td id=\"T_3c63e_row5_col3\" class=\"data row5 col3\" >32000.000000</td>\n",
              "      <td id=\"T_3c63e_row5_col4\" class=\"data row5 col4\" >0.000000</td>\n",
              "    </tr>\n",
              "    <tr>\n",
              "      <th id=\"T_3c63e_level0_row6\" class=\"row_heading level0 row6\" >75%</th>\n",
              "      <td id=\"T_3c63e_row6_col0\" class=\"data row6 col0\" >2016.000000</td>\n",
              "      <td id=\"T_3c63e_row6_col1\" class=\"data row6 col1\" >6.000000</td>\n",
              "      <td id=\"T_3c63e_row6_col2\" class=\"data row6 col2\" >9.900000</td>\n",
              "      <td id=\"T_3c63e_row6_col3\" class=\"data row6 col3\" >48767.000000</td>\n",
              "      <td id=\"T_3c63e_row6_col4\" class=\"data row6 col4\" >0.000000</td>\n",
              "    </tr>\n",
              "    <tr>\n",
              "      <th id=\"T_3c63e_level0_row7\" class=\"row_heading level0 row7\" >max</th>\n",
              "      <td id=\"T_3c63e_row7_col0\" class=\"data row7 col0\" >2018.000000</td>\n",
              "      <td id=\"T_3c63e_row7_col1\" class=\"data row7 col1\" >35.000000</td>\n",
              "      <td id=\"T_3c63e_row7_col2\" class=\"data row7 col2\" >92.600000</td>\n",
              "      <td id=\"T_3c63e_row7_col3\" class=\"data row7 col3\" >500000.000000</td>\n",
              "      <td id=\"T_3c63e_row7_col4\" class=\"data row7 col4\" >3.000000</td>\n",
              "    </tr>\n",
              "  </tbody>\n",
              "</table>\n"
            ]
          },
          "metadata": {},
          "execution_count": 6
        }
      ]
    },
    {
      "cell_type": "markdown",
      "source": [
        "## Data Cleaning"
      ],
      "metadata": {
        "id": "fQVlGtz7DKy0"
      }
    },
    {
      "cell_type": "markdown",
      "source": [
        "Missing Values"
      ],
      "metadata": {
        "id": "hUGkgsvGDOWL"
      }
    },
    {
      "cell_type": "code",
      "source": [
        "# missing values\n",
        "missing = df.isnull().sum()\n",
        "print(missing)\n",
        "\n",
        "print('\\n There is no missing values in the dataset')"
      ],
      "metadata": {
        "colab": {
          "base_uri": "https://localhost:8080/"
        },
        "id": "_Fk1nThTDMET",
        "outputId": "6fde3067-c5a3-4daa-9827-f0ebe3eabef1"
      },
      "execution_count": 7,
      "outputs": [
        {
          "output_type": "stream",
          "name": "stdout",
          "text": [
            "Car_Name         0\n",
            "Year             0\n",
            "Selling_Price    0\n",
            "Present_Price    0\n",
            "Driven_kms       0\n",
            "Fuel_Type        0\n",
            "Selling_type     0\n",
            "Transmission     0\n",
            "Owner            0\n",
            "dtype: int64\n",
            "\n",
            " There is no missing values in the dataset\n"
          ]
        }
      ]
    },
    {
      "cell_type": "markdown",
      "source": [
        "Duplicate Rows"
      ],
      "metadata": {
        "id": "zz6hwKm8DUIr"
      }
    },
    {
      "cell_type": "code",
      "source": [
        "# duplicate values\n",
        "duplicates = df.duplicated().sum()\n",
        "print(f\"Number of duplicate rows = {duplicates}\")\n",
        "\n",
        "# drop duplicates\n",
        "print(\"After dropping duplicates\")\n",
        "df.drop_duplicates(inplace=True)\n",
        "print(f\"Number of duplicate rows = {df.duplicated().sum()}\")"
      ],
      "metadata": {
        "colab": {
          "base_uri": "https://localhost:8080/"
        },
        "id": "dkzMikuhDUvb",
        "outputId": "b6366656-9821-41f8-d0be-327a9610b801"
      },
      "execution_count": 8,
      "outputs": [
        {
          "output_type": "stream",
          "name": "stdout",
          "text": [
            "Number of duplicate rows = 2\n",
            "After dropping duplicates\n",
            "Number of duplicate rows = 0\n"
          ]
        }
      ]
    },
    {
      "cell_type": "markdown",
      "source": [
        "Outliers"
      ],
      "metadata": {
        "id": "lWVkAkYeDZ-D"
      }
    },
    {
      "cell_type": "code",
      "source": [
        "# Set up the figure with 1 row and 3 columns\n",
        "fig, axes = plt.subplots(1, 3, figsize=(18, 6), constrained_layout=True)\n",
        "\n",
        "# Create individual box plots using Seaborn\n",
        "sns.boxplot(ax=axes[0], y=df['Driven_kms'], color='darkblue', showfliers=True)\n",
        "axes[0].set_title('Driven_kms', fontsize=14)\n",
        "axes[0].set_ylabel(\"\")  # Remove y-axis label to match uniformity\n",
        "\n",
        "sns.boxplot(ax=axes[1], y=df['Present_Price'], color='darkgreen', showfliers=True)\n",
        "axes[1].set_title('Present_Price', fontsize=14)\n",
        "axes[1].set_ylabel(\"\")\n",
        "\n",
        "sns.boxplot(ax=axes[2], y=df['Selling_Price'], color='darkred', showfliers=True)\n",
        "axes[2].set_title('Selling_Price', fontsize=14)\n",
        "axes[2].set_ylabel(\"\")\n",
        "\n",
        "# Add a global title for the figure\n",
        "fig.suptitle('Box Plots of Car Data Columns', fontsize=20, weight='bold')\n",
        "\n",
        "# Display the combined figure\n",
        "plt.show()"
      ],
      "metadata": {
        "colab": {
          "base_uri": "https://localhost:8080/",
          "height": 334
        },
        "id": "Er8vFpbGDasT",
        "outputId": "9220b079-7b66-4438-f389-972eb75493e6"
      },
      "execution_count": 9,
      "outputs": [
        {
          "output_type": "display_data",
          "data": {
            "text/plain": [
              "<Figure size 1800x600 with 3 Axes>"
            ],
            "image/png": "[encoded data removed]"
          },
          "metadata": {}
        }
      ]
    },
    {
      "cell_type": "markdown",
      "source": [],
      "metadata": {
        "id": "Ep2khB3sCKe4"
      }
    },
    {
      "cell_type": "code",
      "source": [
        "# outliers using z-score method of Driven_kms Selling_Price and Present_Price columns using numpy\n",
        "from scipy import stats\n",
        "z = np.abs(stats.zscore(df[['Driven_kms', 'Selling_Price', 'Present_Price']]))\n",
        "outliers = (z > 3).sum()\n",
        "print(f'There are total {outliers.sum()} outliers in Driven_kms, Selling_Price and Present_Price columns using Z-score method')\n",
        "\n",
        "print('_'*100, '\\n')\n",
        "\n",
        "# outliers using iqr method Driven_kms Selling_Price and Present_Price columns\n",
        "Q1 = df[['Driven_kms', 'Selling_Price', 'Present_Price']].quantile(0.25)\n",
        "Q3 = df[['Driven_kms', 'Selling_Price', 'Present_Price']].quantile(0.75)\n",
        "IQR = Q3 - Q1\n",
        "outliers = (df[['Driven_kms', 'Selling_Price', 'Present_Price']] < (Q1 - 1.5 * IQR)) | (df[['Driven_kms', 'Selling_Price', 'Present_Price']] > (Q3 + 1.5 * IQR))\n",
        "print(f'There are total {outliers.sum().sum()} outliers in Driven_kms, Selling_Price and Present_Price columns using IQR method')"
      ],
      "metadata": {
        "colab": {
          "base_uri": "https://localhost:8080/"
        },
        "id": "2THy79JeDg9j",
        "outputId": "08615cde-79e7-492b-f615-99dba2384a8a"
      },
      "execution_count": 10,
      "outputs": [
        {
          "output_type": "stream",
          "name": "stdout",
          "text": [
            "There are total 16 outliers in Driven_kms, Selling_Price and Present_Price columns using Z-score method\n",
            "____________________________________________________________________________________________________ \n",
            "\n",
            "There are total 38 outliers in Driven_kms, Selling_Price and Present_Price columns using IQR method\n"
          ]
        }
      ]
    },
    {
      "cell_type": "markdown",
      "source": [
        "remove inconsistency"
      ],
      "metadata": {
        "id": "L1DMhyIuDlAE"
      }
    },
    {
      "cell_type": "code",
      "source": [
        "# Check the shape of the data before removing inconsistency\n",
        "print(f'shape of data before removing inconsistency : Rows = {df.shape[0]} & Columns = {df.shape[1]}\\n')\n",
        "\n",
        "# List of bike-related keywords to identify bike rows\n",
        "bike_keywords = ['Royal Enfield', 'KTM', 'Hero', 'Yamaha', 'TVS', 'Hyosung', 'UM'] # Remove these bike rows\n",
        "\n",
        "# Filter out rows where Car_Name contains any of the bike keywords\n",
        "df = df[~df['Car_Name'].str.contains('|'.join(bike_keywords), case=False, na=False)]\n",
        "\n",
        "# i will remove the rows that shows imbalancing in my data\n",
        "df = df[~((df['Owner'] == 3) | (df['Year'] == 2018) | (df['Car_Name'] == '800'))]\n",
        "\n",
        "# Check the shape of the data after removing inconsistency\n",
        "print(f'shape of data after removing inconsistency : Rows = {df.shape[0]} Columns = {df.shape[1]}\\n')\n",
        "\n",
        "# Display message\n",
        "print('Successfully remove inconsistency')"
      ],
      "metadata": {
        "colab": {
          "base_uri": "https://localhost:8080/"
        },
        "id": "FWNU7q0uDluj",
        "outputId": "bf5344d3-201c-449c-ed16-c8dc852ea928"
      },
      "execution_count": 11,
      "outputs": [
        {
          "output_type": "stream",
          "name": "stdout",
          "text": [
            "shape of data before removing inconsistency : Rows = 299 & Columns = 9\n",
            "\n",
            "shape of data after removing inconsistency : Rows = 242 Columns = 9\n",
            "\n",
            "Successfully remove inconsistency\n"
          ]
        }
      ]
    },
    {
      "cell_type": "markdown",
      "source": [
        "## Feature Engineering"
      ],
      "metadata": {
        "id": "w7nNc1vmDrSC"
      }
    },
    {
      "cell_type": "markdown",
      "source": [
        "Create New Features"
      ],
      "metadata": {
        "id": "rNWrwZK_DxJK"
      }
    },
    {
      "cell_type": "code",
      "source": [
        "# Calculate Age of the Car\n",
        "current_year = 2025\n",
        "df['Age_of_car'] = current_year - df['Year']\n",
        "\n",
        "# Compute Car Depreciation\n",
        "df['Car_depreciation'] = (df['Present_Price'] - df['Selling_Price']).round(3)\n",
        "\n",
        "# Depreciation Per Year\n",
        "df['Depreciation_per_year'] = (df['Car_depreciation'] / df['Age_of_car']).round(3)\n",
        "\n",
        "# Determine Depreciation Rate\n",
        "df['Depreciation_rate'] = ((df['Present_Price'] - df['Selling_Price']) / df['Present_Price']).round(3)\n",
        "df['Depreciation_rate'].fillna(0, inplace=True)  # Handle division by zero\n",
        "\n",
        "# Extract Car Brand from Car_Name\n",
        "df['Brand'] = df['Car_Name'].str.split().str[0]\n",
        "\n",
        "# Create Car Age Category\n",
        "df['Car_Condition'] = pd.cut(df['Age_of_car'],\n",
        "                          bins=[0, 3, 8, 15, 23],\n",
        "                          labels=['new', 'young', 'old', 'very old'])\n",
        "\n",
        "# Create Mileage Category\n",
        "df['Car_Mileage'] = pd.cut(df['Driven_kms'],\n",
        "                              bins=[500, 100000, 300000, 500000],\n",
        "                              labels=['low', 'medium', 'high'])\n",
        "\n",
        "print('Feature Engineering completed successfully')"
      ],
      "metadata": {
        "colab": {
          "base_uri": "https://localhost:8080/"
        },
        "id": "-9E2XxmIDxrj",
        "outputId": "37bae808-bfe6-49eb-dacb-23f0331bde91"
      },
      "execution_count": 12,
      "outputs": [
        {
          "output_type": "stream",
          "name": "stdout",
          "text": [
            "Feature Engineering completed successfully\n"
          ]
        }
      ]
    },
    {
      "cell_type": "markdown",
      "source": [
        "Type Conversion"
      ],
      "metadata": {
        "id": "FAWQ0qkSD29K"
      }
    },
    {
      "cell_type": "code",
      "source": [
        "# Convert object type columns to category type\n",
        "categorical_columns = ['Brand', 'Car_Name', 'Fuel_Type', 'Selling_type', 'Transmission']\n",
        "df[categorical_columns] = df[categorical_columns].astype('category')\n",
        "\n",
        "# Display the data types of the updated dataset\n",
        "print(\"Data types after conversion : \\n\")\n",
        "print(df.dtypes)"
      ],
      "metadata": {
        "colab": {
          "base_uri": "https://localhost:8080/"
        },
        "id": "lTLG3MRLD3ay",
        "outputId": "04037fdd-c162-4092-8675-1924c4924b6b"
      },
      "execution_count": 13,
      "outputs": [
        {
          "output_type": "stream",
          "name": "stdout",
          "text": [
            "Data types after conversion : \n",
            "\n",
            "Car_Name                 category\n",
            "Year                        int64\n",
            "Selling_Price             float64\n",
            "Present_Price             float64\n",
            "Driven_kms                  int64\n",
            "Fuel_Type                category\n",
            "Selling_type             category\n",
            "Transmission             category\n",
            "Owner                       int64\n",
            "Age_of_car                  int64\n",
            "Car_depreciation          float64\n",
            "Depreciation_per_year     float64\n",
            "Depreciation_rate         float64\n",
            "Brand                    category\n",
            "Car_Condition            category\n",
            "Car_Mileage              category\n",
            "dtype: object\n"
          ]
        }
      ]
    },
    {
      "cell_type": "markdown",
      "source": [
        "# **My Objective:**\n",
        "\n",
        "The primary goal of this project is to train a machine learning model capable of accurately predicting car prices based on various features. Although I am not performing univariate, bivariate, or multivariate analysis at this stage, the focus will be on preparing the data for model training. Now, let's move forward with the data preprocessing phase to get the data ready for the machine learning model."
      ],
      "metadata": {
        "id": "Lzd8HNy2D-fh"
      }
    },
    {
      "cell_type": "markdown",
      "source": [
        "## Data Preprocessing"
      ],
      "metadata": {
        "id": "jxHKuLp-EFIa"
      }
    },
    {
      "cell_type": "markdown",
      "source": [
        "Distribution of target variable"
      ],
      "metadata": {
        "id": "N6S52VQ5EKcS"
      }
    },
    {
      "cell_type": "code",
      "source": [
        "# Calculate skewness\n",
        "skewness = df['Selling_Price'].skew()\n",
        "print(f'Skewness of Selling_Price: {skewness}')\n",
        "\n",
        "# Plot the distribution of Selling_Price\n",
        "sns.histplot(df['Selling_Price'], kde=True)\n",
        "plt.title('Distribution of Selling_Price')\n",
        "plt.show()"
      ],
      "metadata": {
        "colab": {
          "base_uri": "https://localhost:8080/",
          "height": 489
        },
        "id": "8_zYibskEDKD",
        "outputId": "1e0cf0c9-e25c-4293-9855-f3ad8e86c317"
      },
      "execution_count": 14,
      "outputs": [
        {
          "output_type": "stream",
          "name": "stdout",
          "text": [
            "Skewness of Selling_Price: 2.4389193616177165\n"
          ]
        },
        {
          "output_type": "display_data",
          "data": {
            "text/plain": [
              "<Figure size 640x480 with 1 Axes>"
            ],
            "image/png": "[encoded data removed]"
          },
          "metadata": {}
        }
      ]
    },
    {
      "cell_type": "markdown",
      "source": [
        "**Why Skewness is a Problem:**\n",
        "\n",
        "If the target variable is highly skewed, it can affect the performance of regression models, especially linear models, which assume that the target variable is normally distributed.\n",
        "\n",
        "Skewness can lead to biased predictions and poor model performance\n",
        "\n",
        "**Interpreting Skewness:**\n",
        "\n",
        "If the skewness is between -0.5 and 0.5, the distribution is\n",
        "approximately symmetric.\n",
        "\n",
        "If the skewness is > 0.5, the distribution is positively skewed (right-tailed).\n",
        "\n",
        "If the skewness is < -0.5, the distribution is negatively skewed (left-tailed)\n",
        "\n",
        "**How to Handle Skewness:**\n",
        "\n",
        "If the target variable is highly skewed, you can apply a transformation to make it more normally distributed. Common transformations include:\n",
        "\n",
        "Log Transformation: np.log1p(Selling_Price)\n",
        "Square Root Transformation: np.sqrt(Selling_Price)\n",
        "Box-Cox Transformation: scipy.stats.boxcox(Selling_Price)"
      ],
      "metadata": {
        "id": "ONgzSZb4EQPC"
      }
    },
    {
      "cell_type": "code",
      "source": [
        "# Apply square root transformation to Selling_Price\n",
        "df['Selling_Price'] = np.sqrt(df['Selling_Price'])\n",
        "\n",
        "# Calculate skewness\n",
        "skewness = df['Selling_Price'].skew()\n",
        "print(f'Skewness of Selling_Price: {skewness}')\n",
        "\n",
        "# Plot the transformed distribution\n",
        "sns.histplot(df['Selling_Price'], kde=True)\n",
        "plt.title('Distribution of Log-Transformed Selling_Price')\n",
        "plt.show()"
      ],
      "metadata": {
        "colab": {
          "base_uri": "https://localhost:8080/",
          "height": 489
        },
        "id": "VYZUU9OuEz9Q",
        "outputId": "4b1e7895-ec03-4b96-8f2d-03a0b5827c2c"
      },
      "execution_count": 15,
      "outputs": [
        {
          "output_type": "stream",
          "name": "stdout",
          "text": [
            "Skewness of Selling_Price: 0.5968308145210136\n"
          ]
        },
        {
          "output_type": "display_data",
          "data": {
            "text/plain": [
              "<Figure size 640x480 with 1 Axes>"
            ],
            "image/png": "[encoded data removed]"
          },
          "metadata": {}
        }
      ]
    },
    {
      "cell_type": "markdown",
      "source": [
        "## Correlation"
      ],
      "metadata": {
        "id": "2Hh5nttuE2zI"
      }
    },
    {
      "cell_type": "code",
      "source": [
        "# Select only numerical features\n",
        "numerical_features = df.select_dtypes(include=[\"number\"])\n",
        "\n",
        "# Calculate the correlation matrix for numerical features\n",
        "correlation_matrix = numerical_features.corr()\n",
        "\n",
        "# Display the correlation matrix\n",
        "print(\"\\nCorrelation Matrix:\")\n",
        "correlation_matrix"
      ],
      "metadata": {
        "colab": {
          "base_uri": "https://localhost:8080/",
          "height": 386
        },
        "id": "_6nPusXzE5ly",
        "outputId": "4999fb4d-70bc-43e6-bb39-317425ffd64a"
      },
      "execution_count": 16,
      "outputs": [
        {
          "output_type": "stream",
          "name": "stdout",
          "text": [
            "\n",
            "Correlation Matrix:\n"
          ]
        },
        {
          "output_type": "execute_result",
          "data": {
            "text/plain": [
              "                           Year  Selling_Price  Present_Price  Driven_kms  \\\n",
              "Year                   1.000000       0.315371      -0.037999   -0.511267   \n",
              "Selling_Price          0.315371       1.000000       0.807972   -0.041442   \n",
              "Present_Price         -0.037999       0.807972       1.000000    0.150506   \n",
              "Driven_kms            -0.511267      -0.041442       0.150506    1.000000   \n",
              "Owner                 -0.080186      -0.124517      -0.095102   -0.033499   \n",
              "Age_of_car            -1.000000      -0.315371       0.037999    0.511267   \n",
              "Car_depreciation      -0.346926       0.451188       0.864228    0.286928   \n",
              "Depreciation_per_year -0.219465       0.562089       0.912086    0.244659   \n",
              "Depreciation_rate     -0.857425      -0.334233       0.084108    0.488203   \n",
              "\n",
              "                          Owner  Age_of_car  Car_depreciation  \\\n",
              "Year                  -0.080186   -1.000000         -0.346926   \n",
              "Selling_Price         -0.124517   -0.315371          0.451188   \n",
              "Present_Price         -0.095102    0.037999          0.864228   \n",
              "Driven_kms            -0.033499    0.511267          0.286928   \n",
              "Owner                  1.000000    0.080186         -0.067642   \n",
              "Age_of_car             0.080186    1.000000          0.346926   \n",
              "Car_depreciation      -0.067642    0.346926          1.000000   \n",
              "Depreciation_per_year -0.077802    0.219465          0.977052   \n",
              "Depreciation_rate      0.095614    0.857425          0.438537   \n",
              "\n",
              "                       Depreciation_per_year  Depreciation_rate  \n",
              "Year                               -0.219465          -0.857425  \n",
              "Selling_Price                       0.562089          -0.334233  \n",
              "Present_Price                       0.912086           0.084108  \n",
              "Driven_kms                          0.244659           0.488203  \n",
              "Owner                              -0.077802           0.095614  \n",
              "Age_of_car                          0.219465           0.857425  \n",
              "Car_depreciation                    0.977052           0.438537  \n",
              "Depreciation_per_year               1.000000           0.358737  \n",
              "Depreciation_rate                   0.358737           1.000000  "
            ],
            "text/html": [
              "\n",
              "  <div id=\"df-570b23ec-7d91-4a73-911f-bd35a1e2bde4\" class=\"colab-df-container\">\n",
              "    <div>\n",
              "<style scoped>\n",
              "    .dataframe tbody tr th:only-of-type {\n",
              "        vertical-align: middle;\n",
              "    }\n",
              "\n",
              "    .dataframe tbody tr th {\n",
              "        vertical-align: top;\n",
              "    }\n",
              "\n",
              "    .dataframe thead th {\n",
              "        text-align: right;\n",
              "    }\n",
              "</style>\n",
              "<table border=\"1\" class=\"dataframe\">\n",
              "  <thead>\n",
              "    <tr style=\"text-align: right;\">\n",
              "      <th></th>\n",
              "      <th>Year</th>\n",
              "      <th>Selling_Price</th>\n",
              "      <th>Present_Price</th>\n",
              "      <th>Driven_kms</th>\n",
              "      <th>Owner</th>\n",
              "      <th>Age_of_car</th>\n",
              "      <th>Car_depreciation</th>\n",
              "      <th>Depreciation_per_year</th>\n",
              "      <th>Depreciation_rate</th>\n",
              "    </tr>\n",
              "  </thead>\n",
              "  <tbody>\n",
              "    <tr>\n",
              "      <th>Year</th>\n",
              "      <td>1.000000</td>\n",
              "      <td>0.315371</td>\n",
              "      <td>-0.037999</td>\n",
              "      <td>-0.511267</td>\n",
              "      <td>-0.080186</td>\n",
              "      <td>-1.000000</td>\n",
              "      <td>-0.346926</td>\n",
              "      <td>-0.219465</td>\n",
              "      <td>-0.857425</td>\n",
              "    </tr>\n",
              "    <tr>\n",
              "      <th>Selling_Price</th>\n",
              "      <td>0.315371</td>\n",
              "      <td>1.000000</td>\n",
              "      <td>0.807972</td>\n",
              "      <td>-0.041442</td>\n",
              "      <td>-0.124517</td>\n",
              "      <td>-0.315371</td>\n",
              "      <td>0.451188</td>\n",
              "      <td>0.562089</td>\n",
              "      <td>-0.334233</td>\n",
              "    </tr>\n",
              "    <tr>\n",
              "      <th>Present_Price</th>\n",
              "      <td>-0.037999</td>\n",
              "      <td>0.807972</td>\n",
              "      <td>1.000000</td>\n",
              "      <td>0.150506</td>\n",
              "      <td>-0.095102</td>\n",
              "      <td>0.037999</td>\n",
              "      <td>0.864228</td>\n",
              "      <td>0.912086</td>\n",
              "      <td>0.084108</td>\n",
              "    </tr>\n",
              "    <tr>\n",
              "      <th>Driven_kms</th>\n",
              "      <td>-0.511267</td>\n",
              "      <td>-0.041442</td>\n",
              "      <td>0.150506</td>\n",
              "      <td>1.000000</td>\n",
              "      <td>-0.033499</td>\n",
              "      <td>0.511267</td>\n",
              "      <td>0.286928</td>\n",
              "      <td>0.244659</td>\n",
              "      <td>0.488203</td>\n",
              "    </tr>\n",
              "    <tr>\n",
              "      <th>Owner</th>\n",
              "      <td>-0.080186</td>\n",
              "      <td>-0.124517</td>\n",
              "      <td>-0.095102</td>\n",
              "      <td>-0.033499</td>\n",
              "      <td>1.000000</td>\n",
              "      <td>0.080186</td>\n",
              "      <td>-0.067642</td>\n",
              "      <td>-0.077802</td>\n",
              "      <td>0.095614</td>\n",
              "    </tr>\n",
              "    <tr>\n",
              "      <th>Age_of_car</th>\n",
              "      <td>-1.000000</td>\n",
              "      <td>-0.315371</td>\n",
              "      <td>0.037999</td>\n",
              "      <td>0.511267</td>\n",
              "      <td>0.080186</td>\n",
              "      <td>1.000000</td>\n",
              "      <td>0.346926</td>\n",
              "      <td>0.219465</td>\n",
              "      <td>0.857425</td>\n",
              "    </tr>\n",
              "    <tr>\n",
              "      <th>Car_depreciation</th>\n",
              "      <td>-0.346926</td>\n",
              "      <td>0.451188</td>\n",
              "      <td>0.864228</td>\n",
              "      <td>0.286928</td>\n",
              "      <td>-0.067642</td>\n",
              "      <td>0.346926</td>\n",
              "      <td>1.000000</td>\n",
              "      <td>0.977052</td>\n",
              "      <td>0.438537</td>\n",
              "    </tr>\n",
              "    <tr>\n",
              "      <th>Depreciation_per_year</th>\n",
              "      <td>-0.219465</td>\n",
              "      <td>0.562089</td>\n",
              "      <td>0.912086</td>\n",
              "      <td>0.244659</td>\n",
              "      <td>-0.077802</td>\n",
              "      <td>0.219465</td>\n",
              "      <td>0.977052</td>\n",
              "      <td>1.000000</td>\n",
              "      <td>0.358737</td>\n",
              "    </tr>\n",
              "    <tr>\n",
              "      <th>Depreciation_rate</th>\n",
              "      <td>-0.857425</td>\n",
              "      <td>-0.334233</td>\n",
              "      <td>0.084108</td>\n",
              "      <td>0.488203</td>\n",
              "      <td>0.095614</td>\n",
              "      <td>0.857425</td>\n",
              "      <td>0.438537</td>\n",
              "      <td>0.358737</td>\n",
              "      <td>1.000000</td>\n",
              "    </tr>\n",
              "  </tbody>\n",
              "</table>\n",
              "</div>\n",
              "    <div class=\"colab-df-buttons\">\n",
              "\n",
              "  <div class=\"colab-df-container\">\n",
              "    <button class=\"colab-df-convert\" onclick=\"convertToInteractive('df-570b23ec-7d91-4a73-911f-bd35a1e2bde4')\"\n",
              "            title=\"Convert this dataframe to an interactive table.\"\n",
              "            style=\"display:none;\">\n",
              "\n",
              "  <svg xmlns=\"http://www.w3.org/2000/svg\" height=\"24px\" viewBox=\"0 -960 960 960\">\n",
              "    <path d=\"M120-120v-720h720v720H120Zm60-500h600v-160H180v160Zm220 220h160v-160H400v160Zm0 220h160v-160H400v160ZM180-400h160v-160H180v160Zm440 0h160v-160H620v160ZM180-180h160v-160H180v160Zm440 0h160v-160H620v160Z\"/>\n",
              "  </svg>\n",
              "    </button>\n",
              "\n",
              "  <style>\n",
              "    .colab-df-container {\n",
              "      display:flex;\n",
              "      gap: 12px;\n",
              "    }\n",
              "\n",
              "    .colab-df-convert {\n",
              "      background-color: #E8F0FE;\n",
              "      border: none;\n",
              "      border-radius: 50%;\n",
              "      cursor: pointer;\n",
              "      display: none;\n",
              "      fill: #1967D2;\n",
              "      height: 32px;\n",
              "      padding: 0 0 0 0;\n",
              "      width: 32px;\n",
              "    }\n",
              "\n",
              "    .colab-df-convert:hover {\n",
              "      background-color: #E2EBFA;\n",
              "      box-shadow: 0px 1px 2px rgba(60, 64, 67, 0.3), 0px 1px 3px 1px rgba(60, 64, 67, 0.15);\n",
              "      fill: #174EA6;\n",
              "    }\n",
              "\n",
              "    .colab-df-buttons div {\n",
              "      margin-bottom: 4px;\n",
              "    }\n",
              "\n",
              "    [theme=dark] .colab-df-convert {\n",
              "      background-color: #3B4455;\n",
              "      fill: #D2E3FC;\n",
              "    }\n",
              "\n",
              "    [theme=dark] .colab-df-convert:hover {\n",
              "      background-color: #434B5C;\n",
              "      box-shadow: 0px 1px 3px 1px rgba(0, 0, 0, 0.15);\n",
              "      filter: drop-shadow(0px 1px 2px rgba(0, 0, 0, 0.3));\n",
              "      fill: #FFFFFF;\n",
              "    }\n",
              "  </style>\n",
              "\n",
              "    <script>\n",
              "      const buttonEl =\n",
              "        document.querySelector('#df-570b23ec-7d91-4a73-911f-bd35a1e2bde4 button.colab-df-convert');\n",
              "      buttonEl.style.display =\n",
              "        google.colab.kernel.accessAllowed ? 'block' : 'none';\n",
              "\n",
              "      async function convertToInteractive(key) {\n",
              "        const element = document.querySelector('#df-570b23ec-7d91-4a73-911f-bd35a1e2bde4');\n",
              "        const dataTable =\n",
              "          await google.colab.kernel.invokeFunction('convertToInteractive',\n",
              "                                                    [key], {});\n",
              "        if (!dataTable) return;\n",
              "\n",
              "        const docLinkHtml = 'Like what you see? Visit the ' +\n",
              "          '<a target=\"_blank\" href=https://colab.research.google.com/notebooks/data_table.ipynb>data table notebook</a>'\n",
              "          + ' to learn more about interactive tables.';\n",
              "        element.innerHTML = '';\n",
              "        dataTable['output_type'] = 'display_data';\n",
              "        await google.colab.output.renderOutput(dataTable, element);\n",
              "        const docLink = document.createElement('div');\n",
              "        docLink.innerHTML = docLinkHtml;\n",
              "        element.appendChild(docLink);\n",
              "      }\n",
              "    </script>\n",
              "  </div>\n",
              "\n",
              "\n",
              "<div id=\"df-953fb549-9958-424e-bda4-26ef81d044de\">\n",
              "  <button class=\"colab-df-quickchart\" onclick=\"quickchart('df-953fb549-9958-424e-bda4-26ef81d044de')\"\n",
              "            title=\"Suggest charts\"\n",
              "            style=\"display:none;\">\n",
              "\n",
              "<svg xmlns=\"http://www.w3.org/2000/svg\" height=\"24px\"viewBox=\"0 0 24 24\"\n",
              "     width=\"24px\">\n",
              "    <g>\n",
              "        <path d=\"M19 3H5c-1.1 0-2 .9-2 2v14c0 1.1.9 2 2 2h14c1.1 0 2-.9 2-2V5c0-1.1-.9-2-2-2zM9 17H7v-7h2v7zm4 0h-2V7h2v10zm4 0h-2v-4h2v4z\"/>\n",
              "    </g>\n",
              "</svg>\n",
              "  </button>\n",
              "\n",
              "<style>\n",
              "  .colab-df-quickchart {\n",
              "      --bg-color: #E8F0FE;\n",
              "      --fill-color: #1967D2;\n",
              "      --hover-bg-color: #E2EBFA;\n",
              "      --hover-fill-color: #174EA6;\n",
              "      --disabled-fill-color: #AAA;\n",
              "      --disabled-bg-color: #DDD;\n",
              "  }\n",
              "\n",
              "  [theme=dark] .colab-df-quickchart {\n",
              "      --bg-color: #3B4455;\n",
              "      --fill-color: #D2E3FC;\n",
              "      --hover-bg-color: #434B5C;\n",
              "      --hover-fill-color: #FFFFFF;\n",
              "      --disabled-bg-color: #3B4455;\n",
              "      --disabled-fill-color: #666;\n",
              "  }\n",
              "\n",
              "  .colab-df-quickchart {\n",
              "    background-color: var(--bg-color);\n",
              "    border: none;\n",
              "    border-radius: 50%;\n",
              "    cursor: pointer;\n",
              "    display: none;\n",
              "    fill: var(--fill-color);\n",
              "    height: 32px;\n",
              "    padding: 0;\n",
              "    width: 32px;\n",
              "  }\n",
              "\n",
              "  .colab-df-quickchart:hover {\n",
              "    background-color: var(--hover-bg-color);\n",
              "    box-shadow: 0 1px 2px rgba(60, 64, 67, 0.3), 0 1px 3px 1px rgba(60, 64, 67, 0.15);\n",
              "    fill: var(--button-hover-fill-color);\n",
              "  }\n",
              "\n",
              "  .colab-df-quickchart-complete:disabled,\n",
              "  .colab-df-quickchart-complete:disabled:hover {\n",
              "    background-color: var(--disabled-bg-color);\n",
              "    fill: var(--disabled-fill-color);\n",
              "    box-shadow: none;\n",
              "  }\n",
              "\n",
              "  .colab-df-spinner {\n",
              "    border: 2px solid var(--fill-color);\n",
              "    border-color: transparent;\n",
              "    border-bottom-color: var(--fill-color);\n",
              "    animation:\n",
              "      spin 1s steps(1) infinite;\n",
              "  }\n",
              "\n",
              "  @keyframes spin {\n",
              "    0% {\n",
              "      border-color: transparent;\n",
              "      border-bottom-color: var(--fill-color);\n",
              "      border-left-color: var(--fill-color);\n",
              "    }\n",
              "    20% {\n",
              "      border-color: transparent;\n",
              "      border-left-color: var(--fill-color);\n",
              "      border-top-color: var(--fill-color);\n",
              "    }\n",
              "    30% {\n",
              "      border-color: transparent;\n",
              "      border-left-color: var(--fill-color);\n",
              "      border-top-color: var(--fill-color);\n",
              "      border-right-color: var(--fill-color);\n",
              "    }\n",
              "    40% {\n",
              "      border-color: transparent;\n",
              "      border-right-color: var(--fill-color);\n",
              "      border-top-color: var(--fill-color);\n",
              "    }\n",
              "    60% {\n",
              "      border-color: transparent;\n",
              "      border-right-color: var(--fill-color);\n",
              "    }\n",
              "    80% {\n",
              "      border-color: transparent;\n",
              "      border-right-color: var(--fill-color);\n",
              "      border-bottom-color: var(--fill-color);\n",
              "    }\n",
              "    90% {\n",
              "      border-color: transparent;\n",
              "      border-bottom-color: var(--fill-color);\n",
              "    }\n",
              "  }\n",
              "</style>\n",
              "\n",
              "  <script>\n",
              "    async function quickchart(key) {\n",
              "      const quickchartButtonEl =\n",
              "        document.querySelector('#' + key + ' button');\n",
              "      quickchartButtonEl.disabled = true;  // To prevent multiple clicks.\n",
              "      quickchartButtonEl.classList.add('colab-df-spinner');\n",
              "      try {\n",
              "        const charts = await google.colab.kernel.invokeFunction(\n",
              "            'suggestCharts', [key], {});\n",
              "      } catch (error) {\n",
              "        console.error('Error during call to suggestCharts:', error);\n",
              "      }\n",
              "      quickchartButtonEl.classList.remove('colab-df-spinner');\n",
              "      quickchartButtonEl.classList.add('colab-df-quickchart-complete');\n",
              "    }\n",
              "    (() => {\n",
              "      let quickchartButtonEl =\n",
              "        document.querySelector('#df-953fb549-9958-424e-bda4-26ef81d044de button');\n",
              "      quickchartButtonEl.style.display =\n",
              "        google.colab.kernel.accessAllowed ? 'block' : 'none';\n",
              "    })();\n",
              "  </script>\n",
              "</div>\n",
              "\n",
              "  <div id=\"id_7a4314d5-a99d-4cde-afd4-ce5a0f203335\">\n",
              "    <style>\n",
              "      .colab-df-generate {\n",
              "        background-color: #E8F0FE;\n",
              "        border: none;\n",
              "        border-radius: 50%;\n",
              "        cursor: pointer;\n",
              "        display: none;\n",
              "        fill: #1967D2;\n",
              "        height: 32px;\n",
              "        padding: 0 0 0 0;\n",
              "        width: 32px;\n",
              "      }\n",
              "\n",
              "      .colab-df-generate:hover {\n",
              "        background-color: #E2EBFA;\n",
              "        box-shadow: 0px 1px 2px rgba(60, 64, 67, 0.3), 0px 1px 3px 1px rgba(60, 64, 67, 0.15);\n",
              "        fill: #174EA6;\n",
              "      }\n",
              "\n",
              "      [theme=dark] .colab-df-generate {\n",
              "        background-color: #3B4455;\n",
              "        fill: #D2E3FC;\n",
              "      }\n",
              "\n",
              "      [theme=dark] .colab-df-generate:hover {\n",
              "        background-color: #434B5C;\n",
              "        box-shadow: 0px 1px 3px 1px rgba(0, 0, 0, 0.15);\n",
              "        filter: drop-shadow(0px 1px 2px rgba(0, 0, 0, 0.3));\n",
              "        fill: #FFFFFF;\n",
              "      }\n",
              "    </style>\n",
              "    <button class=\"colab-df-generate\" onclick=\"generateWithVariable('correlation_matrix')\"\n",
              "            title=\"Generate code using this dataframe.\"\n",
              "            style=\"display:none;\">\n",
              "\n",
              "  <svg xmlns=\"http://www.w3.org/2000/svg\" height=\"24px\"viewBox=\"0 0 24 24\"\n",
              "       width=\"24px\">\n",
              "    <path d=\"M7,19H8.4L18.45,9,17,7.55,7,17.6ZM5,21V16.75L18.45,3.32a2,2,0,0,1,2.83,0l1.4,1.43a1.91,1.91,0,0,1,.58,1.4,1.91,1.91,0,0,1-.58,1.4L9.25,21ZM18.45,9,17,7.55Zm-12,3A5.31,5.31,0,0,0,4.9,8.1,5.31,5.31,0,0,0,1,6.5,5.31,5.31,0,0,0,4.9,4.9,5.31,5.31,0,0,0,6.5,1,5.31,5.31,0,0,0,8.1,4.9,5.31,5.31,0,0,0,12,6.5,5.46,5.46,0,0,0,6.5,12Z\"/>\n",
              "  </svg>\n",
              "    </button>\n",
              "    <script>\n",
              "      (() => {\n",
              "      const buttonEl =\n",
              "        document.querySelector('#id_7a4314d5-a99d-4cde-afd4-ce5a0f203335 button.colab-df-generate');\n",
              "      buttonEl.style.display =\n",
              "        google.colab.kernel.accessAllowed ? 'block' : 'none';\n",
              "\n",
              "      buttonEl.onclick = () => {\n",
              "        google.colab.notebook.generateWithVariable('correlation_matrix');\n",
              "      }\n",
              "      })();\n",
              "    </script>\n",
              "  </div>\n",
              "\n",
              "    </div>\n",
              "  </div>\n"
            ],
            "application/vnd.google.colaboratory.intrinsic+json": {
              "type": "dataframe",
              "variable_name": "correlation_matrix",
              "summary": "{\n  \"name\": \"correlation_matrix\",\n  \"rows\": 9,\n  \"fields\": [\n    {\n      \"column\": \"Year\",\n      \"properties\": {\n        \"dtype\": \"number\",\n        \"std\": 0.6058918656483587,\n        \"min\": -1.0000000000000002,\n        \"max\": 1.0,\n        \"num_unique_values\": 9,\n        \"samples\": [\n          -0.21946502749087418,\n          0.3153709872917646,\n          -1.0000000000000002\n        ],\n        \"semantic_type\": \"\",\n        \"description\": \"\"\n      }\n    },\n    {\n      \"column\": \"Selling_Price\",\n      \"properties\": {\n        \"dtype\": \"number\",\n        \"std\": 0.48754422888425447,\n        \"min\": -0.33423326637033,\n        \"max\": 1.0,\n        \"num_unique_values\": 9,\n        \"samples\": [\n          0.5620888429726706,\n          1.0,\n          -0.3153709872917614\n        ],\n        \"semantic_type\": \"\",\n        \"description\": \"\"\n      }\n    },\n    {\n      \"column\": \"Present_Price\",\n      \"properties\": {\n        \"dtype\": \"number\",\n        \"std\": 0.4653663064345726,\n        \"min\": -0.09510167077390802,\n        \"max\": 1.0,\n        \"num_unique_values\": 9,\n        \"samples\": [\n          0.9120857275886,\n          0.8079717860671576,\n          0.03799923563322888\n        ],\n        \"semantic_type\": \"\",\n        \"description\": \"\"\n      }\n    },\n    {\n      \"column\": \"Driven_kms\",\n      \"properties\": {\n        \"dtype\": \"number\",\n        \"std\": 0.4244073080020218,\n        \"min\": -0.5112670690020594,\n        \"max\": 1.0,\n        \"num_unique_values\": 9,\n        \"samples\": [\n          0.24465914052197912,\n          -0.04144206782943686,\n          0.511267069002065\n        ],\n        \"semantic_type\": \"\",\n        \"description\": \"\"\n      }\n    },\n    {\n      \"column\": \"Owner\",\n      \"properties\": {\n        \"dtype\": \"number\",\n        \"std\": 0.35431521093090734,\n        \"min\": -0.1245165758478782,\n        \"max\": 1.0,\n        \"num_unique_values\": 9,\n        \"samples\": [\n          -0.07780249701583615,\n          -0.1245165758478782,\n          0.08018584161369816\n        ],\n        \"semantic_type\": \"\",\n        \"description\": \"\"\n      }\n    },\n    {\n      \"column\": \"Age_of_car\",\n      \"properties\": {\n        \"dtype\": \"number\",\n        \"std\": 0.6058918656483584,\n        \"min\": -1.0000000000000002,\n        \"max\": 1.0,\n        \"num_unique_values\": 9,\n        \"samples\": [\n          0.21946502749087912,\n          -0.3153709872917614,\n          1.0\n        ],\n        \"semantic_type\": \"\",\n        \"description\": \"\"\n      }\n    },\n    {\n      \"column\": \"Car_depreciation\",\n      \"properties\": {\n        \"dtype\": \"number\",\n        \"std\": 0.4597769475188236,\n        \"min\": -0.34692640068153274,\n        \"max\": 1.0,\n        \"num_unique_values\": 9,\n        \"samples\": [\n          0.9770523853695933,\n          0.451188162307931,\n          0.3469264006815368\n        ],\n        \"semantic_type\": \"\",\n        \"description\": \"\"\n      }\n    },\n    {\n      \"column\": \"Depreciation_per_year\",\n      \"properties\": {\n        \"dtype\": \"number\",\n        \"std\": 0.4522409922314125,\n        \"min\": -0.21946502749087418,\n        \"max\": 1.0,\n        \"num_unique_values\": 9,\n        \"samples\": [\n          1.0,\n          0.5620888429726706,\n          0.21946502749087912\n        ],\n        \"semantic_type\": \"\",\n        \"description\": \"\"\n      }\n    },\n    {\n      \"column\": \"Depreciation_rate\",\n      \"properties\": {\n        \"dtype\": \"number\",\n        \"std\": 0.5758770935769851,\n        \"min\": -0.8574251038942329,\n        \"max\": 1.0,\n        \"num_unique_values\": 9,\n        \"samples\": [\n          0.35873745749477626,\n          -0.33423326637033,\n          0.8574251038942308\n        ],\n        \"semantic_type\": \"\",\n        \"description\": \"\"\n      }\n    }\n  ]\n}"
            }
          },
          "metadata": {},
          "execution_count": 16
        }
      ]
    },
    {
      "cell_type": "code",
      "source": [
        "# Visualize the correlation matrix using a heatmap\n",
        "plt.figure(figsize=(10, 8))\n",
        "sns.heatmap(correlation_matrix, annot=True, cmap='Set1', fmt='.2f')\n",
        "plt.title(\"Correlation Matrix\")\n",
        "plt.show()"
      ],
      "metadata": {
        "colab": {
          "base_uri": "https://localhost:8080/",
          "height": 842
        },
        "id": "nn3nxMl2E87Y",
        "outputId": "0bda9ef4-83b5-4e9c-e53e-c858e546c9c5"
      },
      "execution_count": 17,
      "outputs": [
        {
          "output_type": "display_data",
          "data": {
            "text/plain": [
              "<Figure size 1000x800 with 2 Axes>"
            ],
            "image/png": "[encoded data removed]"
          },
          "metadata": {}
        }
      ]
    },
    {
      "cell_type": "code",
      "source": [
        "# Drop unnecessary columns\n",
        "df = df.drop(columns=['Car_Name'])\n",
        "\n",
        "print(\"Successfully Droped the Column\")"
      ],
      "metadata": {
        "colab": {
          "base_uri": "https://localhost:8080/"
        },
        "id": "AOtdI75sE_lg",
        "outputId": "48693f95-d11a-4f31-c965-4d25babe57be"
      },
      "execution_count": 18,
      "outputs": [
        {
          "output_type": "stream",
          "name": "stdout",
          "text": [
            "Successfully Droped the Column\n"
          ]
        }
      ]
    },
    {
      "cell_type": "markdown",
      "source": [
        "## Build ML Model"
      ],
      "metadata": {
        "id": "1sCgDpQhFBrA"
      }
    },
    {
      "cell_type": "code",
      "source": [
        "# Separate features (X) and target (y)\n",
        "X = df.drop(columns=['Selling_Price'])\n",
        "y = df['Selling_Price']\n",
        "\n",
        "# Split the data into training and testing sets\n",
        "X_train, X_test, y_train, y_test = train_test_split(X, y, test_size=0.2, random_state=42)\n",
        "\n",
        "# Define categorical and numerical columns\n",
        "categorical_cols = ['Fuel_Type', 'Selling_type', 'Transmission', 'Brand', 'Car_Condition', 'Car_Mileage']\n",
        "numerical_cols = ['Present_Price', 'Driven_kms', 'Age_of_car', 'Car_depreciation']\n",
        "\n",
        "# Preprocessing pipeline\n",
        "# Numerical columns: MinMax Scaling\n",
        "# Categorical columns: OneHot Encoding\n",
        "preprocessor = ColumnTransformer(\n",
        "    transformers=[\n",
        "        ('num', MinMaxScaler(), numerical_cols),\n",
        "        ('cat', OneHotEncoder(handle_unknown='ignore'), categorical_cols)\n",
        "    ])\n",
        "\n",
        "# Define a list of regression models to compare with additional hyperparameters\n",
        "models = [\n",
        "    ('Linear Regression', LinearRegression(), {}),\n",
        "    ('Ridge Regression', Ridge(), {'regressor__alpha': [0.01, 0.1, 1.0, 10.0, 100.0]}),\n",
        "    ('Lasso Regression', Lasso(), {'regressor__alpha': [0.01, 0.1, 1.0, 10.0, 100.0]}),\n",
        "    ('Decision Tree', DecisionTreeRegressor(), {'regressor__max_depth': [None, 10, 20, 30], 'regressor__min_samples_split': [2, 5, 10]}),\n",
        "    ('Random Forest', RandomForestRegressor(), {'regressor__n_estimators': [50, 100, 200], 'regressor__max_depth': [None, 10, 20], 'regressor__min_samples_split': [2, 5, 10]}),\n",
        "    ('Gradient Boosting', GradientBoostingRegressor(), {'regressor__n_estimators': [50, 100, 200], 'regressor__learning_rate': [0.01, 0.1, 0.2], 'regressor__max_depth': [3, 5, 10]}),\n",
        "    ('SVR', SVR(), {'regressor__C': [0.1, 1.0, 10.0], 'regressor__kernel': ['linear', 'rbf'], 'regressor__gamma': ['scale', 'auto']}),\n",
        "    ('KNN', KNeighborsRegressor(), {'regressor__n_neighbors': [3, 5, 7, 9], 'regressor__weights': ['uniform', 'distance']}),\n",
        "    ('XGBoost', XGBRegressor(), {'regressor__n_estimators': [50, 100, 200], 'regressor__learning_rate': [0.01, 0.1, 0.2], 'regressor__max_depth': [3, 5, 10]})\n",
        "]\n",
        "\n",
        "# Initialize a list to store model performance\n",
        "results = []\n",
        "\n",
        "# Loop through each model, train, and evaluate\n",
        "for name, model, params in models:\n",
        "    # Create a pipeline with preprocessor and model\n",
        "    pipeline = Pipeline(steps=[\n",
        "        ('preprocessor', preprocessor),\n",
        "        ('regressor', model)\n",
        "    ])\n",
        "\n",
        "    # Use GridSearchCV for hyperparameter tuning\n",
        "    grid_search = GridSearchCV(pipeline, param_grid=params, cv=5, scoring='neg_mean_squared_error')\n",
        "    grid_search.fit(X_train, y_train)\n",
        "\n",
        "    # Evaluate the model\n",
        "    y_pred = grid_search.predict(X_test)\n",
        "    mse = mean_squared_error(y_test, y_pred)\n",
        "    mae = mean_absolute_error(y_test, y_pred)\n",
        "    r2 = r2_score(y_test, y_pred)\n",
        "\n",
        "    # Store the results\n",
        "    results.append({\n",
        "        'Model': name,\n",
        "        'Best Parameters': grid_search.best_params_,\n",
        "        'MSE': mse,\n",
        "        'MAE': mae,\n",
        "        'R2 Score': r2\n",
        "    })\n",
        "\n",
        "    print(f\"{name}:\")\n",
        "    print(f\"  Best Parameters: {grid_search.best_params_}\")\n",
        "    print(f\"  MSE: {mse}\")\n",
        "    print(f\"  MAE: {mae}\")\n",
        "    print(f\"  R2 Score: {r2}\")\n",
        "    print()\n",
        "\n",
        "# Convert results to a DataFrame and sort by R2 Score in descending order\n",
        "results_df = pd.DataFrame(results)\n",
        "results_df = results_df.sort_values(by='R2 Score', ascending=False)\n",
        "\n",
        "# Print the sorted results\n",
        "print(\"Model Performance (Sorted by R2 Score):\")\n",
        "print(results_df)\n",
        "\n",
        "# Print the best model\n",
        "best_model_result = results_df.iloc[0]\n",
        "print(\"\\nBest Model:\")\n",
        "print(f\"  Model: {best_model_result['Model']}\")\n",
        "print(f\"  Best Parameters: {best_model_result['Best Parameters']}\")\n",
        "print(f\"  MSE: {best_model_result['MSE']}\")\n",
        "print(f\"  MAE: {best_model_result['MAE']}\")\n",
        "print(f\"  R2 Score: {best_model_result['R2 Score']}\")"
      ],
      "metadata": {
        "colab": {
          "base_uri": "https://localhost:8080/"
        },
        "id": "aIjRRLecFC1g",
        "outputId": "7273534f-e53d-40ee-bfb5-bb0b68a8ee21"
      },
      "execution_count": 19,
      "outputs": [
        {
          "output_type": "stream",
          "name": "stdout",
          "text": [
            "Linear Regression:\n",
            "  Best Parameters: {}\n",
            "  MSE: 0.018208638233381355\n",
            "  MAE: 0.09132994275967475\n",
            "  R2 Score: 0.9833404904962773\n",
            "\n",
            "Ridge Regression:\n",
            "  Best Parameters: {'regressor__alpha': 0.01}\n",
            "  MSE: 0.019194946324001743\n",
            "  MAE: 0.09642897683056066\n",
            "  R2 Score: 0.982438094128208\n",
            "\n",
            "Lasso Regression:\n",
            "  Best Parameters: {'regressor__alpha': 0.01}\n",
            "  MSE: 0.2071147593653985\n",
            "  MAE: 0.23861525610931825\n",
            "  R2 Score: 0.8105058567376262\n",
            "\n",
            "Decision Tree:\n",
            "  Best Parameters: {'regressor__max_depth': 30, 'regressor__min_samples_split': 5}\n",
            "  MSE: 0.051277610897637924\n",
            "  MAE: 0.1513283965532872\n",
            "  R2 Score: 0.9530849130435627\n",
            "\n",
            "Random Forest:\n",
            "  Best Parameters: {'regressor__max_depth': None, 'regressor__min_samples_split': 2, 'regressor__n_estimators': 50}\n",
            "  MSE: 0.11713309145173713\n",
            "  MAE: 0.1418564278347372\n",
            "  R2 Score: 0.8928321917746033\n",
            "\n",
            "Gradient Boosting:\n",
            "  Best Parameters: {'regressor__learning_rate': 0.1, 'regressor__max_depth': 3, 'regressor__n_estimators': 200}\n",
            "  MSE: 0.11888533578502626\n",
            "  MAE: 0.13609042909625224\n",
            "  R2 Score: 0.8912290224025106\n",
            "\n",
            "SVR:\n",
            "  Best Parameters: {'regressor__C': 10.0, 'regressor__gamma': 'scale', 'regressor__kernel': 'linear'}\n",
            "  MSE: 0.02006226969823896\n",
            "  MAE: 0.105318705261773\n",
            "  R2 Score: 0.9816445596633728\n",
            "\n",
            "KNN:\n",
            "  Best Parameters: {'regressor__n_neighbors': 5, 'regressor__weights': 'uniform'}\n",
            "  MSE: 0.25073112011657783\n",
            "  MAE: 0.29671736524021486\n",
            "  R2 Score: 0.7706002269404474\n",
            "\n",
            "XGBoost:\n",
            "  Best Parameters: {'regressor__learning_rate': 0.2, 'regressor__max_depth': 3, 'regressor__n_estimators': 200}\n",
            "  MSE: 0.10148534251348196\n",
            "  MAE: 0.13323909114957405\n",
            "  R2 Score: 0.9071486836949505\n",
            "\n",
            "Model Performance (Sorted by R2 Score):\n",
            "               Model                                    Best Parameters  \\\n",
            "0  Linear Regression                                                 {}   \n",
            "1   Ridge Regression                         {'regressor__alpha': 0.01}   \n",
            "6                SVR  {'regressor__C': 10.0, 'regressor__gamma': 'sc...   \n",
            "3      Decision Tree  {'regressor__max_depth': 30, 'regressor__min_s...   \n",
            "8            XGBoost  {'regressor__learning_rate': 0.2, 'regressor__...   \n",
            "4      Random Forest  {'regressor__max_depth': None, 'regressor__min...   \n",
            "5  Gradient Boosting  {'regressor__learning_rate': 0.1, 'regressor__...   \n",
            "2   Lasso Regression                         {'regressor__alpha': 0.01}   \n",
            "7                KNN  {'regressor__n_neighbors': 5, 'regressor__weig...   \n",
            "\n",
            "        MSE       MAE  R2 Score  \n",
            "0  0.018209  0.091330  0.983340  \n",
            "1  0.019195  0.096429  0.982438  \n",
            "6  0.020062  0.105319  0.981645  \n",
            "3  0.051278  0.151328  0.953085  \n",
            "8  0.101485  0.133239  0.907149  \n",
            "4  0.117133  0.141856  0.892832  \n",
            "5  0.118885  0.136090  0.891229  \n",
            "2  0.207115  0.238615  0.810506  \n",
            "7  0.250731  0.296717  0.770600  \n",
            "\n",
            "Best Model:\n",
            "  Model: Linear Regression\n",
            "  Best Parameters: {}\n",
            "  MSE: 0.018208638233381355\n",
            "  MAE: 0.09132994275967475\n",
            "  R2 Score: 0.9833404904962773\n"
          ]
        }
      ]
    },
    {
      "cell_type": "markdown",
      "source": [
        "**Dump a Model & load it for prediction**\n",
        "\n",
        "Save machine learning model for future use with techniques like joblib or pickle. Preserve"
      ],
      "metadata": {
        "id": "2kiQgbZ4Fav_"
      }
    },
    {
      "source": [
        "# Extract the best model from the results DataFrame\n",
        "best_model_name = results_df.iloc[0]['Model']\n",
        "best_model_params = results_df.iloc[0]['Best Parameters']\n",
        "\n",
        "# Find the corresponding model object\n",
        "best_model = None\n",
        "for name, model, params in models:\n",
        "    if name == best_model_name:\n",
        "        best_model = model\n",
        "        break\n",
        "\n",
        "# Create a pipeline with the preprocessor and the best model\n",
        "best_model_pipeline = Pipeline(steps=[\n",
        "    ('preprocessor', preprocessor),\n",
        "    ('regressor', best_model)\n",
        "])\n",
        "\n",
        "# Set the best parameters to the model\n",
        "best_model_pipeline.set_params(**best_model_params)\n",
        "\n",
        "# Fit the best model pipeline\n",
        "best_model_pipeline.fit(X_train, y_train)\n",
        "\n",
        "\n",
        "import os\n",
        "current_directory = os.getcwd()\n",
        "# Create the full file path\n",
        "file_path = os.path.join(current_directory, 'best_model.pkl')\n",
        "with open(file_path, 'wb') as file: # Changed to 'best_model.pkl'\n",
        "    pickle.dump(best_model_pipeline, file)\n",
        "\n",
        "# Load the model from the pickle file\n",
        "with open(file_path, 'rb') as file: # Changed to 'best_model.pkl'\n",
        "    loaded_model = pickle.load(file)\n",
        "\n",
        "# Make predictions using the loaded model\n",
        "loaded_model_predictions = loaded_model.predict(X_test)\n",
        "\n",
        "# Evaluate the loaded model\n",
        "loaded_model_mse = mean_squared_error(y_test, loaded_model_predictions)\n",
        "loaded_model_mae = mean_absolute_error(y_test, loaded_model_predictions)\n",
        "loaded_model_r2 = r2_score(y_test, loaded_model_predictions)\n",
        "\n",
        "print(f\"Loaded Model Evaluation:\")\n",
        "print(f\"  MSE: {loaded_model_mse}\")\n",
        "print(f\"  MAE: {loaded_model_mae}\")\n",
        "print(f\"  R2 Score: {loaded_model_r2}\")"
      ],
      "cell_type": "code",
      "metadata": {
        "colab": {
          "base_uri": "https://localhost:8080/"
        },
        "id": "obgTaCaiFpaA",
        "outputId": "5cd6069c-8d10-4ae0-f601-7016f55dda19"
      },
      "execution_count": 22,
      "outputs": [
        {
          "output_type": "stream",
          "name": "stdout",
          "text": [
            "Loaded Model Evaluation:\n",
            "  MSE: 0.018208638233381355\n",
            "  MAE: 0.09132994275967475\n",
            "  R2 Score: 0.9833404904962773\n"
          ]
        }
      ]
    }
  ]
}